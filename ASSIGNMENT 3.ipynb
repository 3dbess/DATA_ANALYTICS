{
 "cells": [
  {
   "cell_type": "markdown",
   "id": "fbc7237e-8641-4367-9e8e-39dd1aa38430",
   "metadata": {},
   "source": [
    "Name: Bessa Tamarra"
   ]
  },
  {
   "cell_type": "markdown",
   "id": "10c2edf2-4159-4598-b7f3-a1993a827d4b",
   "metadata": {},
   "source": [
    "<h2>Assignment 3</h2>"
   ]
  },
  {
   "cell_type": "code",
   "execution_count": 6,
   "id": "cc4df579-9feb-47ed-a1eb-45f51e44a305",
   "metadata": {},
   "outputs": [],
   "source": [
    "from ucimlrepo import fetch_ucirepo \n",
    "soybean= fetch_ucirepo(id=91) \n",
    "zoo = fetch_ucirepo(id=111) \n",
    "heart_disease = fetch_ucirepo(id=45) \n",
    "dermatology = fetch_ucirepo(id=33)\n",
    "breast_cancer = fetch_ucirepo(id=15)\n",
    "mushroom = fetch_ucirepo(id=73) "
   ]
  },
  {
   "cell_type": "code",
   "execution_count": 7,
   "id": "a7c6a12b-c282-4285-b35a-f05269ab13fc",
   "metadata": {},
   "outputs": [],
   "source": [
    "import pandas as pd\n",
    "X = soybean.data.features\n",
    "y = soybean.data.targets \n",
    "soybean_df = pd.merge(X, y, left_index=True, right_index=True)\n",
    "\n",
    "X = zoo.data.features\n",
    "y = zoo.data.targets \n",
    "zoo_df = pd.merge(X, y, left_index=True, right_index=True)\n",
    "\n",
    "X = heart_disease.data.features\n",
    "y = heart_disease.data.targets \n",
    "heart_disease_df = pd.merge(X, y, left_index=True, right_index=True)\n",
    "\n",
    "X = dermatology.data.features\n",
    "y = dermatology.data.targets \n",
    "dermatology_df = pd.merge(X, y, left_index=True, right_index=True)\n",
    "\n",
    "X = breast_cancer.data.features\n",
    "y = breast_cancer.data.targets \n",
    "breast_cancer_df = pd.merge(X, y, left_index=True, right_index=True)\n",
    "\n",
    "X = mushroom.data.features\n",
    "y = mushroom.data.targets \n",
    "mushroom_df = pd.merge(X, y, left_index=True, right_index=True)\n",
    "\n",
    "soybean_df = soybean_df.dropna()\n",
    "zoo_df = zoo_df.dropna()\n",
    "heart_disease_df = heart_disease_df.dropna()\n",
    "dermatology_df = dermatology_df.dropna()\n",
    "breast_cancer_df = breast_cancer_df.dropna()\n",
    "mushroom_df = mushroom_df.dropna()"
   ]
  },
  {
   "cell_type": "code",
   "execution_count": 9,
   "id": "3c19bcc4-6b24-4f9f-9a1a-eb0efe8dab35",
   "metadata": {},
   "outputs": [],
   "source": [
    "def jaccard_coefficient(set1, set2):\n",
    "    intersection = len(set1.intersection(set2))\n",
    "    union = len(set1.union(set2))\n",
    "    return intersection / union\n",
    "\n",
    "def ochiai_coefficient(set1, set2):\n",
    "    intersection = len(set1.intersection(set2))\n",
    "    denominator = np.sqrt(len(set1) * len(set2))\n",
    "    return intersection / denominator\n",
    "\n",
    "def overlap_coefficient(set1, set2):\n",
    "    intersection = len(set1.intersection(set2))\n",
    "    min_length = min(len(set1), len(set2))\n",
    "    return intersection / min_length\n",
    "\n",
    "def dice_coefficient(set1, set2):\n",
    "    intersection = len(set1.intersection(set2))\n",
    "    denominator = len(set1) + len(set2)\n",
    "    return 2 * intersection / denominator\n",
    "\n",
    "def graph_based_representation(data):\n",
    "    num_samples, num_features = data.shape\n",
    "    similarity_matrix = np.zeros((num_features, num_features))\n",
    "    for i, j in itertools.combinations(range(num_features), 2):\n",
    "        similarity_matrix[i, j] = jaccard_coefficient(set(data[:, i]), set(data[:, j]))\n",
    "        similarity_matrix[j, i] = similarity_matrix[i, j]\n",
    "    G = nx.from_numpy_array(similarity_matrix)\n",
    "    embedding = SpectralEmbedding(n_components=p)\n",
    "    representation_matrix = embedding.fit_transform(similarity_matrix)\n",
    "    return representation_matrix\n",
    "\n",
    "def joint_operation(data, representation_matrix):\n",
    "    return np.dot(data, representation_matrix)\n",
    "\n",
    "def mean_operation(data, representation_matrix):\n",
    "    return np.mean(np.dot(data, representation_matrix), axis=1)\n",
    "\n",
    "def perform_clustering(data, k):\n",
    "    kmeans = KMeans(n_clusters=k)\n",
    "    return kmeans.fit_predict(data)"
   ]
  },
  {
   "cell_type": "code",
   "execution_count": 10,
   "id": "32476ee6-7ad2-4f4a-a426-5ccf392a3331",
   "metadata": {},
   "outputs": [
    {
     "name": "stderr",
     "output_type": "stream",
     "text": [
      "C:\\Users\\bessa\\AppData\\Local\\Programs\\Python\\Python311\\Lib\\site-packages\\sklearn\\cluster\\_kmeans.py:1416: FutureWarning: The default value of `n_init` will change from 10 to 'auto' in 1.4. Set the value of `n_init` explicitly to suppress the warning\n",
      "  super()._check_params_vs_input(X, default_n_init=10)\n",
      "C:\\Users\\bessa\\AppData\\Local\\Programs\\Python\\Python311\\Lib\\site-packages\\sklearn\\cluster\\_kmeans.py:1416: FutureWarning: The default value of `n_init` will change from 10 to 'auto' in 1.4. Set the value of `n_init` explicitly to suppress the warning\n",
      "  super()._check_params_vs_input(X, default_n_init=10)\n",
      "C:\\Users\\bessa\\AppData\\Local\\Programs\\Python\\Python311\\Lib\\site-packages\\sklearn\\cluster\\_kmeans.py:1416: FutureWarning: The default value of `n_init` will change from 10 to 'auto' in 1.4. Set the value of `n_init` explicitly to suppress the warning\n",
      "  super()._check_params_vs_input(X, default_n_init=10)\n",
      "C:\\Users\\bessa\\AppData\\Local\\Programs\\Python\\Python311\\Lib\\site-packages\\sklearn\\cluster\\_kmeans.py:1416: FutureWarning: The default value of `n_init` will change from 10 to 'auto' in 1.4. Set the value of `n_init` explicitly to suppress the warning\n",
      "  super()._check_params_vs_input(X, default_n_init=10)\n",
      "C:\\Users\\bessa\\AppData\\Local\\Programs\\Python\\Python311\\Lib\\site-packages\\sklearn\\cluster\\_kmeans.py:1416: FutureWarning: The default value of `n_init` will change from 10 to 'auto' in 1.4. Set the value of `n_init` explicitly to suppress the warning\n",
      "  super()._check_params_vs_input(X, default_n_init=10)\n"
     ]
    },
    {
     "name": "stdout",
     "output_type": "stream",
     "text": [
      "            Dataset       ARI       NMI       FMI\n",
      "0        soybean_df  0.677392  0.774817  0.785382\n",
      "1            zoo_df  0.534283  0.715232  0.715982\n",
      "2  heart_disease_df  0.001782  0.015164  0.342046\n",
      "3    dermatology_df  0.192335  0.315293  0.420680\n",
      "4  breast_cancer_df  0.359508  0.263296  0.667522\n",
      "5       mushroom_df  0.306460  0.375637  0.648071\n"
     ]
    },
    {
     "name": "stderr",
     "output_type": "stream",
     "text": [
      "C:\\Users\\bessa\\AppData\\Local\\Programs\\Python\\Python311\\Lib\\site-packages\\sklearn\\cluster\\_kmeans.py:1416: FutureWarning: The default value of `n_init` will change from 10 to 'auto' in 1.4. Set the value of `n_init` explicitly to suppress the warning\n",
      "  super()._check_params_vs_input(X, default_n_init=10)\n"
     ]
    }
   ],
   "source": [
    "from sklearn.preprocessing import OneHotEncoder\n",
    "from sklearn.manifold import SpectralEmbedding\n",
    "from sklearn.metrics.cluster import adjusted_rand_score, normalized_mutual_info_score, fowlkes_mallows_score\n",
    "from sklearn.cluster import KMeans\n",
    "import numpy as np\n",
    "import networkx as nx\n",
    "import warnings\n",
    "import itertools\n",
    "p = 10\n",
    "q = 10 \n",
    "k = 3\n",
    "\n",
    "results = []\n",
    "datasets = [\"soybean_df\", \"zoo_df\", \"heart_disease_df\", \"dermatology_df\", \"breast_cancer_df\", \"mushroom_df\"]\n",
    "for dataset_name in datasets:\n",
    "    dataset = globals()[dataset_name]\n",
    "    with warnings.catch_warnings():\n",
    "        warnings.filterwarnings(\"ignore\", category=UserWarning)\n",
    "        try:\n",
    "            X = dataset\n",
    "            enc = OneHotEncoder()\n",
    "            X_encoded = enc.fit_transform(X)\n",
    "            representation_matrix = graph_based_representation(X_encoded.toarray())\n",
    "            integrated_data = joint_operation(X_encoded.toarray(), representation_matrix)\n",
    "            labels = perform_clustering(integrated_data, k)\n",
    "\n",
    "            true_labels = dataset.iloc[:, -1] \n",
    "            ARI = adjusted_rand_score(true_labels, labels)\n",
    "            NMI = normalized_mutual_info_score(true_labels, labels)\n",
    "            FMI = fowlkes_mallows_score(true_labels, labels)\n",
    "            results.append([dataset_name, ARI, NMI, FMI])\n",
    "        except UserWarning as e:\n",
    "            print(f\"Warning: {e}\")\n",
    "\n",
    "results_df = pd.DataFrame(results, columns=[\"Dataset\", \"ARI\", \"NMI\", \"FMI\"])\n",
    "print(results_df)"
   ]
  },
  {
   "cell_type": "markdown",
   "id": "fcfd0c21-d6a4-4656-a18f-c6ea405b01f7",
   "metadata": {},
   "source": [
    "For clustering analysis, ARI, NMI and FMI are used to assess clustering performance. ARI corrects for chance and is useful for comparing clusterings with different sizes, especially when a reference clustering is available. NMI measures the shared information between two clusterings, giving a value between 0 and 1 where 1 indicates identical clusterings. It's good for comparing clusterings without a reference and handling varying cluster sizes. FMI assesses clustering similarity by combining precision and recall, making it valuable when both are important for evaluation. "
   ]
  },
  {
   "cell_type": "code",
   "execution_count": null,
   "id": "5b811a19-a486-499c-b2d7-0934e4f15eec",
   "metadata": {},
   "outputs": [],
   "source": []
  },
  {
   "cell_type": "markdown",
   "id": "aa3fa454-2503-4da0-b8bd-22e480ad76cd",
   "metadata": {},
   "source": [
    "<h4>Kmodes and Hierarchical Clustering, perform categorical data clustering, use FMI, ARI, and NMI for the comparison of performance </h4>"
   ]
  },
  {
   "cell_type": "code",
   "execution_count": 12,
   "id": "a9f590fb-52f2-4fd7-8b4a-bc3ca61fafe9",
   "metadata": {},
   "outputs": [
    {
     "name": "stdout",
     "output_type": "stream",
     "text": [
      "                            Dataset       ARI       NMI       FMI\n",
      "0               soybean_df (Kmodes)  0.675984  0.710181  0.774863\n",
      "1         soybean_df (Hierarchical)  0.653689  0.837666  0.783908\n",
      "2                   zoo_df (Kmodes)  0.721570  0.714510  0.812035\n",
      "3             zoo_df (Hierarchical)  0.461701  0.585056  0.645736\n",
      "4         heart_disease_df (Kmodes)  0.194250  0.175247  0.487704\n",
      "5   heart_disease_df (Hierarchical)  0.009543  0.010944  0.353434\n",
      "6           dermatology_df (Kmodes)  0.515638  0.679720  0.677660\n",
      "7     dermatology_df (Hierarchical)  0.032201  0.078147  0.293614\n",
      "8         breast_cancer_df (Kmodes)  0.408917  0.429897  0.683847\n",
      "9   breast_cancer_df (Hierarchical)  0.781678  0.688725  0.893555\n",
      "10             mushroom_df (Kmodes)  0.313601  0.367445  0.647829\n",
      "11       mushroom_df (Hierarchical)  0.298722  0.431275  0.610515\n"
     ]
    }
   ],
   "source": [
    "from sklearn.preprocessing import LabelEncoder \n",
    "from kmodes.kmodes import KModes\n",
    "from sklearn.cluster import AgglomerativeClustering\n",
    "\n",
    "results_categorical = []\n",
    "\n",
    "for dataset_name in datasets:\n",
    "    dataset = globals()[dataset_name]\n",
    "    with warnings.catch_warnings():\n",
    "        warnings.filterwarnings(\"ignore\", category=UserWarning)\n",
    "        try:\n",
    "            X_cat = dataset.iloc[:, :-1]\n",
    "            true_labels_cat = dataset.iloc[:, -1]\n",
    "\n",
    "            encoder = LabelEncoder()\n",
    "            X_cat_encoded = X_cat.apply(encoder.fit_transform)\n",
    "\n",
    "            km = KModes(n_clusters=k, init='Huang', n_init=5, verbose=0)\n",
    "            km_labels = km.fit_predict(X_cat_encoded)\n",
    "            ARI_km = adjusted_rand_score(true_labels_cat, km_labels)\n",
    "            NMI_km = normalized_mutual_info_score(true_labels_cat, km_labels)\n",
    "            FMI_km = fowlkes_mallows_score(true_labels_cat, km_labels)\n",
    "\n",
    "            ac = AgglomerativeClustering(n_clusters=k, linkage='ward')\n",
    "            ac_labels = ac.fit_predict(X_cat_encoded)\n",
    "            ARI_ac = adjusted_rand_score(true_labels_cat, ac_labels)\n",
    "            NMI_ac = normalized_mutual_info_score(true_labels_cat, ac_labels)\n",
    "            FMI_ac = fowlkes_mallows_score(true_labels_cat, ac_labels)\n",
    "            \n",
    "            results_categorical.append([dataset_name + \" (Kmodes)\", ARI_km, NMI_km, FMI_km])\n",
    "            results_categorical.append([dataset_name + \" (Hierarchical)\", ARI_ac, NMI_ac, FMI_ac])\n",
    "        except UserWarning as e:\n",
    "            print(f\"Warning: {e}\")\n",
    "\n",
    "results_categorical_df = pd.DataFrame(results_categorical, columns=[\"Dataset\", \"ARI\", \"NMI\", \"FMI\"])\n",
    "print(results_categorical_df)"
   ]
  },
  {
   "cell_type": "markdown",
   "id": "624cef12-8c33-47a1-978d-ec1984f01728",
   "metadata": {},
   "source": [
    "$$\n",
    "\\text{The ARI, NMI, and FMI metrics are importanting for evaluating clustering performance. These metrics are selected because of their ability to quantify the quality of clustering results. FMI typically yields higher scores compared to ARI and NMI because it prioritizes precise classification. ARI's tendency to favor clustering with more clusters and NMI's sensitivity to both cluster number and size can result in inaccurate assessments of clustering effectiveness.} \n",
    "$$\n",
    "\n",
    "$$\n",
    "\\text{In contrast, FMI places emphasis on accurate classification, making it a more dependable metric for evaluating clustering quality and thus often surpassing ARI and NMI in performance evaluations across different contexts.}\n",
    "$$"
   ]
  },
  {
   "cell_type": "code",
   "execution_count": null,
   "id": "9aef0bd7-ec45-482a-b075-0dd7ad7b04f1",
   "metadata": {},
   "outputs": [],
   "source": []
  }
 ],
 "metadata": {
  "kernelspec": {
   "display_name": "Python 3 (ipykernel)",
   "language": "python",
   "name": "python3"
  },
  "language_info": {
   "codemirror_mode": {
    "name": "ipython",
    "version": 3
   },
   "file_extension": ".py",
   "mimetype": "text/x-python",
   "name": "python",
   "nbconvert_exporter": "python",
   "pygments_lexer": "ipython3",
   "version": "3.11.5"
  }
 },
 "nbformat": 4,
 "nbformat_minor": 5
}
